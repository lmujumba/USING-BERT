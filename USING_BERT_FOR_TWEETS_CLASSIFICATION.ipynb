{
  "nbformat": 4,
  "nbformat_minor": 0,
  "metadata": {
    "colab": {
      "name": "USING-BERT FOR TWEETS CLASSIFICATION.ipynb",
      "provenance": [],
      "collapsed_sections": []
    },
    "kernelspec": {
      "name": "python3",
      "display_name": "Python 3"
    },
    "widgets": {
      "application/vnd.jupyter.widget-state+json": {
        "8c44e4ef8bc34f81a66e03d065207819": {
          "model_module": "@jupyter-widgets/controls",
          "model_name": "HBoxModel",
          "state": {
            "_view_name": "HBoxView",
            "_dom_classes": [],
            "_model_name": "HBoxModel",
            "_view_module": "@jupyter-widgets/controls",
            "_model_module_version": "1.5.0",
            "_view_count": null,
            "_view_module_version": "1.5.0",
            "box_style": "",
            "layout": "IPY_MODEL_e62f0e2fe49f463fbe238ad7aebc2672",
            "_model_module": "@jupyter-widgets/controls",
            "children": [
              "IPY_MODEL_8c000b37ef09432aaacf262c0a5f0b90",
              "IPY_MODEL_d43a24acbc72416d894c7f9a5514c6bc"
            ]
          }
        },
        "e62f0e2fe49f463fbe238ad7aebc2672": {
          "model_module": "@jupyter-widgets/base",
          "model_name": "LayoutModel",
          "state": {
            "_view_name": "LayoutView",
            "grid_template_rows": null,
            "right": null,
            "justify_content": null,
            "_view_module": "@jupyter-widgets/base",
            "overflow": null,
            "_model_module_version": "1.2.0",
            "_view_count": null,
            "flex_flow": null,
            "width": null,
            "min_width": null,
            "border": null,
            "align_items": null,
            "bottom": null,
            "_model_module": "@jupyter-widgets/base",
            "top": null,
            "grid_column": null,
            "overflow_y": null,
            "overflow_x": null,
            "grid_auto_flow": null,
            "grid_area": null,
            "grid_template_columns": null,
            "flex": null,
            "_model_name": "LayoutModel",
            "justify_items": null,
            "grid_row": null,
            "max_height": null,
            "align_content": null,
            "visibility": null,
            "align_self": null,
            "height": null,
            "min_height": null,
            "padding": null,
            "grid_auto_rows": null,
            "grid_gap": null,
            "max_width": null,
            "order": null,
            "_view_module_version": "1.2.0",
            "grid_template_areas": null,
            "object_position": null,
            "object_fit": null,
            "grid_auto_columns": null,
            "margin": null,
            "display": null,
            "left": null
          }
        },
        "8c000b37ef09432aaacf262c0a5f0b90": {
          "model_module": "@jupyter-widgets/controls",
          "model_name": "FloatProgressModel",
          "state": {
            "_view_name": "ProgressView",
            "style": "IPY_MODEL_0f05f2a1d8104e358902743f86048257",
            "_dom_classes": [],
            "description": "Downloading: 100%",
            "_model_name": "FloatProgressModel",
            "bar_style": "success",
            "max": 231508,
            "_view_module": "@jupyter-widgets/controls",
            "_model_module_version": "1.5.0",
            "value": 231508,
            "_view_count": null,
            "_view_module_version": "1.5.0",
            "orientation": "horizontal",
            "min": 0,
            "description_tooltip": null,
            "_model_module": "@jupyter-widgets/controls",
            "layout": "IPY_MODEL_6aaa2a0365a94e7593aa7f1eefe03d24"
          }
        },
        "d43a24acbc72416d894c7f9a5514c6bc": {
          "model_module": "@jupyter-widgets/controls",
          "model_name": "HTMLModel",
          "state": {
            "_view_name": "HTMLView",
            "style": "IPY_MODEL_a0a3a745d75c4036ad7b731a87fb6996",
            "_dom_classes": [],
            "description": "",
            "_model_name": "HTMLModel",
            "placeholder": "​",
            "_view_module": "@jupyter-widgets/controls",
            "_model_module_version": "1.5.0",
            "value": " 232k/232k [00:00&lt;00:00, 2.09MB/s]",
            "_view_count": null,
            "_view_module_version": "1.5.0",
            "description_tooltip": null,
            "_model_module": "@jupyter-widgets/controls",
            "layout": "IPY_MODEL_6d30afd2b8ad4975889d93e85a511053"
          }
        },
        "0f05f2a1d8104e358902743f86048257": {
          "model_module": "@jupyter-widgets/controls",
          "model_name": "ProgressStyleModel",
          "state": {
            "_view_name": "StyleView",
            "_model_name": "ProgressStyleModel",
            "description_width": "initial",
            "_view_module": "@jupyter-widgets/base",
            "_model_module_version": "1.5.0",
            "_view_count": null,
            "_view_module_version": "1.2.0",
            "bar_color": null,
            "_model_module": "@jupyter-widgets/controls"
          }
        },
        "6aaa2a0365a94e7593aa7f1eefe03d24": {
          "model_module": "@jupyter-widgets/base",
          "model_name": "LayoutModel",
          "state": {
            "_view_name": "LayoutView",
            "grid_template_rows": null,
            "right": null,
            "justify_content": null,
            "_view_module": "@jupyter-widgets/base",
            "overflow": null,
            "_model_module_version": "1.2.0",
            "_view_count": null,
            "flex_flow": null,
            "width": null,
            "min_width": null,
            "border": null,
            "align_items": null,
            "bottom": null,
            "_model_module": "@jupyter-widgets/base",
            "top": null,
            "grid_column": null,
            "overflow_y": null,
            "overflow_x": null,
            "grid_auto_flow": null,
            "grid_area": null,
            "grid_template_columns": null,
            "flex": null,
            "_model_name": "LayoutModel",
            "justify_items": null,
            "grid_row": null,
            "max_height": null,
            "align_content": null,
            "visibility": null,
            "align_self": null,
            "height": null,
            "min_height": null,
            "padding": null,
            "grid_auto_rows": null,
            "grid_gap": null,
            "max_width": null,
            "order": null,
            "_view_module_version": "1.2.0",
            "grid_template_areas": null,
            "object_position": null,
            "object_fit": null,
            "grid_auto_columns": null,
            "margin": null,
            "display": null,
            "left": null
          }
        },
        "a0a3a745d75c4036ad7b731a87fb6996": {
          "model_module": "@jupyter-widgets/controls",
          "model_name": "DescriptionStyleModel",
          "state": {
            "_view_name": "StyleView",
            "_model_name": "DescriptionStyleModel",
            "description_width": "",
            "_view_module": "@jupyter-widgets/base",
            "_model_module_version": "1.5.0",
            "_view_count": null,
            "_view_module_version": "1.2.0",
            "_model_module": "@jupyter-widgets/controls"
          }
        },
        "6d30afd2b8ad4975889d93e85a511053": {
          "model_module": "@jupyter-widgets/base",
          "model_name": "LayoutModel",
          "state": {
            "_view_name": "LayoutView",
            "grid_template_rows": null,
            "right": null,
            "justify_content": null,
            "_view_module": "@jupyter-widgets/base",
            "overflow": null,
            "_model_module_version": "1.2.0",
            "_view_count": null,
            "flex_flow": null,
            "width": null,
            "min_width": null,
            "border": null,
            "align_items": null,
            "bottom": null,
            "_model_module": "@jupyter-widgets/base",
            "top": null,
            "grid_column": null,
            "overflow_y": null,
            "overflow_x": null,
            "grid_auto_flow": null,
            "grid_area": null,
            "grid_template_columns": null,
            "flex": null,
            "_model_name": "LayoutModel",
            "justify_items": null,
            "grid_row": null,
            "max_height": null,
            "align_content": null,
            "visibility": null,
            "align_self": null,
            "height": null,
            "min_height": null,
            "padding": null,
            "grid_auto_rows": null,
            "grid_gap": null,
            "max_width": null,
            "order": null,
            "_view_module_version": "1.2.0",
            "grid_template_areas": null,
            "object_position": null,
            "object_fit": null,
            "grid_auto_columns": null,
            "margin": null,
            "display": null,
            "left": null
          }
        },
        "c2f35a2c07e94d1bb2076dedd3b77062": {
          "model_module": "@jupyter-widgets/controls",
          "model_name": "HBoxModel",
          "state": {
            "_view_name": "HBoxView",
            "_dom_classes": [],
            "_model_name": "HBoxModel",
            "_view_module": "@jupyter-widgets/controls",
            "_model_module_version": "1.5.0",
            "_view_count": null,
            "_view_module_version": "1.5.0",
            "box_style": "",
            "layout": "IPY_MODEL_070c03348fb44ffb9965bc158675d829",
            "_model_module": "@jupyter-widgets/controls",
            "children": [
              "IPY_MODEL_80b71d1ec8de440da2dc965c5f34b05f",
              "IPY_MODEL_618900f977ed419f9142c2c9ffbea606"
            ]
          }
        },
        "070c03348fb44ffb9965bc158675d829": {
          "model_module": "@jupyter-widgets/base",
          "model_name": "LayoutModel",
          "state": {
            "_view_name": "LayoutView",
            "grid_template_rows": null,
            "right": null,
            "justify_content": null,
            "_view_module": "@jupyter-widgets/base",
            "overflow": null,
            "_model_module_version": "1.2.0",
            "_view_count": null,
            "flex_flow": null,
            "width": null,
            "min_width": null,
            "border": null,
            "align_items": null,
            "bottom": null,
            "_model_module": "@jupyter-widgets/base",
            "top": null,
            "grid_column": null,
            "overflow_y": null,
            "overflow_x": null,
            "grid_auto_flow": null,
            "grid_area": null,
            "grid_template_columns": null,
            "flex": null,
            "_model_name": "LayoutModel",
            "justify_items": null,
            "grid_row": null,
            "max_height": null,
            "align_content": null,
            "visibility": null,
            "align_self": null,
            "height": null,
            "min_height": null,
            "padding": null,
            "grid_auto_rows": null,
            "grid_gap": null,
            "max_width": null,
            "order": null,
            "_view_module_version": "1.2.0",
            "grid_template_areas": null,
            "object_position": null,
            "object_fit": null,
            "grid_auto_columns": null,
            "margin": null,
            "display": null,
            "left": null
          }
        },
        "80b71d1ec8de440da2dc965c5f34b05f": {
          "model_module": "@jupyter-widgets/controls",
          "model_name": "FloatProgressModel",
          "state": {
            "_view_name": "ProgressView",
            "style": "IPY_MODEL_0db45fca0dad414da2c84e7168017bb1",
            "_dom_classes": [],
            "description": "Downloading: 100%",
            "_model_name": "FloatProgressModel",
            "bar_style": "success",
            "max": 442,
            "_view_module": "@jupyter-widgets/controls",
            "_model_module_version": "1.5.0",
            "value": 442,
            "_view_count": null,
            "_view_module_version": "1.5.0",
            "orientation": "horizontal",
            "min": 0,
            "description_tooltip": null,
            "_model_module": "@jupyter-widgets/controls",
            "layout": "IPY_MODEL_fbca82f6b8064d3c874a7b72a7cd2c23"
          }
        },
        "618900f977ed419f9142c2c9ffbea606": {
          "model_module": "@jupyter-widgets/controls",
          "model_name": "HTMLModel",
          "state": {
            "_view_name": "HTMLView",
            "style": "IPY_MODEL_b04e713f82e94533a1e7cceffbcc727b",
            "_dom_classes": [],
            "description": "",
            "_model_name": "HTMLModel",
            "placeholder": "​",
            "_view_module": "@jupyter-widgets/controls",
            "_model_module_version": "1.5.0",
            "value": " 442/442 [00:00&lt;00:00, 1.16kB/s]",
            "_view_count": null,
            "_view_module_version": "1.5.0",
            "description_tooltip": null,
            "_model_module": "@jupyter-widgets/controls",
            "layout": "IPY_MODEL_3ed03eec0cc645c1a26fc9ffabef27aa"
          }
        },
        "0db45fca0dad414da2c84e7168017bb1": {
          "model_module": "@jupyter-widgets/controls",
          "model_name": "ProgressStyleModel",
          "state": {
            "_view_name": "StyleView",
            "_model_name": "ProgressStyleModel",
            "description_width": "initial",
            "_view_module": "@jupyter-widgets/base",
            "_model_module_version": "1.5.0",
            "_view_count": null,
            "_view_module_version": "1.2.0",
            "bar_color": null,
            "_model_module": "@jupyter-widgets/controls"
          }
        },
        "fbca82f6b8064d3c874a7b72a7cd2c23": {
          "model_module": "@jupyter-widgets/base",
          "model_name": "LayoutModel",
          "state": {
            "_view_name": "LayoutView",
            "grid_template_rows": null,
            "right": null,
            "justify_content": null,
            "_view_module": "@jupyter-widgets/base",
            "overflow": null,
            "_model_module_version": "1.2.0",
            "_view_count": null,
            "flex_flow": null,
            "width": null,
            "min_width": null,
            "border": null,
            "align_items": null,
            "bottom": null,
            "_model_module": "@jupyter-widgets/base",
            "top": null,
            "grid_column": null,
            "overflow_y": null,
            "overflow_x": null,
            "grid_auto_flow": null,
            "grid_area": null,
            "grid_template_columns": null,
            "flex": null,
            "_model_name": "LayoutModel",
            "justify_items": null,
            "grid_row": null,
            "max_height": null,
            "align_content": null,
            "visibility": null,
            "align_self": null,
            "height": null,
            "min_height": null,
            "padding": null,
            "grid_auto_rows": null,
            "grid_gap": null,
            "max_width": null,
            "order": null,
            "_view_module_version": "1.2.0",
            "grid_template_areas": null,
            "object_position": null,
            "object_fit": null,
            "grid_auto_columns": null,
            "margin": null,
            "display": null,
            "left": null
          }
        },
        "b04e713f82e94533a1e7cceffbcc727b": {
          "model_module": "@jupyter-widgets/controls",
          "model_name": "DescriptionStyleModel",
          "state": {
            "_view_name": "StyleView",
            "_model_name": "DescriptionStyleModel",
            "description_width": "",
            "_view_module": "@jupyter-widgets/base",
            "_model_module_version": "1.5.0",
            "_view_count": null,
            "_view_module_version": "1.2.0",
            "_model_module": "@jupyter-widgets/controls"
          }
        },
        "3ed03eec0cc645c1a26fc9ffabef27aa": {
          "model_module": "@jupyter-widgets/base",
          "model_name": "LayoutModel",
          "state": {
            "_view_name": "LayoutView",
            "grid_template_rows": null,
            "right": null,
            "justify_content": null,
            "_view_module": "@jupyter-widgets/base",
            "overflow": null,
            "_model_module_version": "1.2.0",
            "_view_count": null,
            "flex_flow": null,
            "width": null,
            "min_width": null,
            "border": null,
            "align_items": null,
            "bottom": null,
            "_model_module": "@jupyter-widgets/base",
            "top": null,
            "grid_column": null,
            "overflow_y": null,
            "overflow_x": null,
            "grid_auto_flow": null,
            "grid_area": null,
            "grid_template_columns": null,
            "flex": null,
            "_model_name": "LayoutModel",
            "justify_items": null,
            "grid_row": null,
            "max_height": null,
            "align_content": null,
            "visibility": null,
            "align_self": null,
            "height": null,
            "min_height": null,
            "padding": null,
            "grid_auto_rows": null,
            "grid_gap": null,
            "max_width": null,
            "order": null,
            "_view_module_version": "1.2.0",
            "grid_template_areas": null,
            "object_position": null,
            "object_fit": null,
            "grid_auto_columns": null,
            "margin": null,
            "display": null,
            "left": null
          }
        },
        "cea8adfdb27e4ad0a65d51e9246327d5": {
          "model_module": "@jupyter-widgets/controls",
          "model_name": "HBoxModel",
          "state": {
            "_view_name": "HBoxView",
            "_dom_classes": [],
            "_model_name": "HBoxModel",
            "_view_module": "@jupyter-widgets/controls",
            "_model_module_version": "1.5.0",
            "_view_count": null,
            "_view_module_version": "1.5.0",
            "box_style": "",
            "layout": "IPY_MODEL_e770028991034f528921f5b55b8bd60e",
            "_model_module": "@jupyter-widgets/controls",
            "children": [
              "IPY_MODEL_2c803a97cd7e4610b8d8b79b6780be34",
              "IPY_MODEL_cc8ae86da56d4790b466f2e3b62902d2"
            ]
          }
        },
        "e770028991034f528921f5b55b8bd60e": {
          "model_module": "@jupyter-widgets/base",
          "model_name": "LayoutModel",
          "state": {
            "_view_name": "LayoutView",
            "grid_template_rows": null,
            "right": null,
            "justify_content": null,
            "_view_module": "@jupyter-widgets/base",
            "overflow": null,
            "_model_module_version": "1.2.0",
            "_view_count": null,
            "flex_flow": null,
            "width": null,
            "min_width": null,
            "border": null,
            "align_items": null,
            "bottom": null,
            "_model_module": "@jupyter-widgets/base",
            "top": null,
            "grid_column": null,
            "overflow_y": null,
            "overflow_x": null,
            "grid_auto_flow": null,
            "grid_area": null,
            "grid_template_columns": null,
            "flex": null,
            "_model_name": "LayoutModel",
            "justify_items": null,
            "grid_row": null,
            "max_height": null,
            "align_content": null,
            "visibility": null,
            "align_self": null,
            "height": null,
            "min_height": null,
            "padding": null,
            "grid_auto_rows": null,
            "grid_gap": null,
            "max_width": null,
            "order": null,
            "_view_module_version": "1.2.0",
            "grid_template_areas": null,
            "object_position": null,
            "object_fit": null,
            "grid_auto_columns": null,
            "margin": null,
            "display": null,
            "left": null
          }
        },
        "2c803a97cd7e4610b8d8b79b6780be34": {
          "model_module": "@jupyter-widgets/controls",
          "model_name": "FloatProgressModel",
          "state": {
            "_view_name": "ProgressView",
            "style": "IPY_MODEL_bc5f2326422c444dad65fb0c6416d11c",
            "_dom_classes": [],
            "description": "Downloading: 100%",
            "_model_name": "FloatProgressModel",
            "bar_style": "success",
            "max": 267967963,
            "_view_module": "@jupyter-widgets/controls",
            "_model_module_version": "1.5.0",
            "value": 267967963,
            "_view_count": null,
            "_view_module_version": "1.5.0",
            "orientation": "horizontal",
            "min": 0,
            "description_tooltip": null,
            "_model_module": "@jupyter-widgets/controls",
            "layout": "IPY_MODEL_b5dfa53a64284a3a9da1a18b67846551"
          }
        },
        "cc8ae86da56d4790b466f2e3b62902d2": {
          "model_module": "@jupyter-widgets/controls",
          "model_name": "HTMLModel",
          "state": {
            "_view_name": "HTMLView",
            "style": "IPY_MODEL_0a7b1b577d664a7bb83177a08819b039",
            "_dom_classes": [],
            "description": "",
            "_model_name": "HTMLModel",
            "placeholder": "​",
            "_view_module": "@jupyter-widgets/controls",
            "_model_module_version": "1.5.0",
            "value": " 268M/268M [06:06&lt;00:00, 730kB/s]",
            "_view_count": null,
            "_view_module_version": "1.5.0",
            "description_tooltip": null,
            "_model_module": "@jupyter-widgets/controls",
            "layout": "IPY_MODEL_33c2863a02c049dabfcc23e698d74322"
          }
        },
        "bc5f2326422c444dad65fb0c6416d11c": {
          "model_module": "@jupyter-widgets/controls",
          "model_name": "ProgressStyleModel",
          "state": {
            "_view_name": "StyleView",
            "_model_name": "ProgressStyleModel",
            "description_width": "initial",
            "_view_module": "@jupyter-widgets/base",
            "_model_module_version": "1.5.0",
            "_view_count": null,
            "_view_module_version": "1.2.0",
            "bar_color": null,
            "_model_module": "@jupyter-widgets/controls"
          }
        },
        "b5dfa53a64284a3a9da1a18b67846551": {
          "model_module": "@jupyter-widgets/base",
          "model_name": "LayoutModel",
          "state": {
            "_view_name": "LayoutView",
            "grid_template_rows": null,
            "right": null,
            "justify_content": null,
            "_view_module": "@jupyter-widgets/base",
            "overflow": null,
            "_model_module_version": "1.2.0",
            "_view_count": null,
            "flex_flow": null,
            "width": null,
            "min_width": null,
            "border": null,
            "align_items": null,
            "bottom": null,
            "_model_module": "@jupyter-widgets/base",
            "top": null,
            "grid_column": null,
            "overflow_y": null,
            "overflow_x": null,
            "grid_auto_flow": null,
            "grid_area": null,
            "grid_template_columns": null,
            "flex": null,
            "_model_name": "LayoutModel",
            "justify_items": null,
            "grid_row": null,
            "max_height": null,
            "align_content": null,
            "visibility": null,
            "align_self": null,
            "height": null,
            "min_height": null,
            "padding": null,
            "grid_auto_rows": null,
            "grid_gap": null,
            "max_width": null,
            "order": null,
            "_view_module_version": "1.2.0",
            "grid_template_areas": null,
            "object_position": null,
            "object_fit": null,
            "grid_auto_columns": null,
            "margin": null,
            "display": null,
            "left": null
          }
        },
        "0a7b1b577d664a7bb83177a08819b039": {
          "model_module": "@jupyter-widgets/controls",
          "model_name": "DescriptionStyleModel",
          "state": {
            "_view_name": "StyleView",
            "_model_name": "DescriptionStyleModel",
            "description_width": "",
            "_view_module": "@jupyter-widgets/base",
            "_model_module_version": "1.5.0",
            "_view_count": null,
            "_view_module_version": "1.2.0",
            "_model_module": "@jupyter-widgets/controls"
          }
        },
        "33c2863a02c049dabfcc23e698d74322": {
          "model_module": "@jupyter-widgets/base",
          "model_name": "LayoutModel",
          "state": {
            "_view_name": "LayoutView",
            "grid_template_rows": null,
            "right": null,
            "justify_content": null,
            "_view_module": "@jupyter-widgets/base",
            "overflow": null,
            "_model_module_version": "1.2.0",
            "_view_count": null,
            "flex_flow": null,
            "width": null,
            "min_width": null,
            "border": null,
            "align_items": null,
            "bottom": null,
            "_model_module": "@jupyter-widgets/base",
            "top": null,
            "grid_column": null,
            "overflow_y": null,
            "overflow_x": null,
            "grid_auto_flow": null,
            "grid_area": null,
            "grid_template_columns": null,
            "flex": null,
            "_model_name": "LayoutModel",
            "justify_items": null,
            "grid_row": null,
            "max_height": null,
            "align_content": null,
            "visibility": null,
            "align_self": null,
            "height": null,
            "min_height": null,
            "padding": null,
            "grid_auto_rows": null,
            "grid_gap": null,
            "max_width": null,
            "order": null,
            "_view_module_version": "1.2.0",
            "grid_template_areas": null,
            "object_position": null,
            "object_fit": null,
            "grid_auto_columns": null,
            "margin": null,
            "display": null,
            "left": null
          }
        }
      }
    }
  },
  "cells": [
    {
      "cell_type": "markdown",
      "metadata": {
        "id": "Yy9Z0YQ0DJ7J"
      },
      "source": [
        "Using BERT ON A TWITTER DATASET"
      ]
    },
    {
      "cell_type": "code",
      "metadata": {
        "colab": {
          "base_uri": "https://localhost:8080/"
        },
        "id": "luIni8i3ZA65",
        "outputId": "3b272daf-8558-46a9-806b-b72974fca63b"
      },
      "source": [
        "import nltk\n",
        "nltk.download('popular')"
      ],
      "execution_count": null,
      "outputs": [
        {
          "output_type": "stream",
          "text": [
            "[nltk_data] Downloading collection 'popular'\n",
            "[nltk_data]    | \n",
            "[nltk_data]    | Downloading package cmudict to /root/nltk_data...\n",
            "[nltk_data]    |   Unzipping corpora/cmudict.zip.\n",
            "[nltk_data]    | Downloading package gazetteers to /root/nltk_data...\n",
            "[nltk_data]    |   Unzipping corpora/gazetteers.zip.\n",
            "[nltk_data]    | Downloading package genesis to /root/nltk_data...\n",
            "[nltk_data]    |   Unzipping corpora/genesis.zip.\n",
            "[nltk_data]    | Downloading package gutenberg to /root/nltk_data...\n",
            "[nltk_data]    |   Unzipping corpora/gutenberg.zip.\n",
            "[nltk_data]    | Downloading package inaugural to /root/nltk_data...\n",
            "[nltk_data]    |   Unzipping corpora/inaugural.zip.\n",
            "[nltk_data]    | Downloading package movie_reviews to\n",
            "[nltk_data]    |     /root/nltk_data...\n",
            "[nltk_data]    |   Unzipping corpora/movie_reviews.zip.\n",
            "[nltk_data]    | Downloading package names to /root/nltk_data...\n",
            "[nltk_data]    |   Unzipping corpora/names.zip.\n",
            "[nltk_data]    | Downloading package shakespeare to /root/nltk_data...\n",
            "[nltk_data]    |   Unzipping corpora/shakespeare.zip.\n",
            "[nltk_data]    | Downloading package stopwords to /root/nltk_data...\n",
            "[nltk_data]    |   Unzipping corpora/stopwords.zip.\n",
            "[nltk_data]    | Downloading package treebank to /root/nltk_data...\n",
            "[nltk_data]    |   Unzipping corpora/treebank.zip.\n",
            "[nltk_data]    | Downloading package twitter_samples to\n",
            "[nltk_data]    |     /root/nltk_data...\n",
            "[nltk_data]    |   Unzipping corpora/twitter_samples.zip.\n",
            "[nltk_data]    | Downloading package omw to /root/nltk_data...\n",
            "[nltk_data]    |   Unzipping corpora/omw.zip.\n",
            "[nltk_data]    | Downloading package wordnet to /root/nltk_data...\n",
            "[nltk_data]    |   Unzipping corpora/wordnet.zip.\n",
            "[nltk_data]    | Downloading package wordnet_ic to /root/nltk_data...\n",
            "[nltk_data]    |   Unzipping corpora/wordnet_ic.zip.\n",
            "[nltk_data]    | Downloading package words to /root/nltk_data...\n",
            "[nltk_data]    |   Unzipping corpora/words.zip.\n",
            "[nltk_data]    | Downloading package maxent_ne_chunker to\n",
            "[nltk_data]    |     /root/nltk_data...\n",
            "[nltk_data]    |   Unzipping chunkers/maxent_ne_chunker.zip.\n",
            "[nltk_data]    | Downloading package punkt to /root/nltk_data...\n",
            "[nltk_data]    |   Unzipping tokenizers/punkt.zip.\n",
            "[nltk_data]    | Downloading package snowball_data to\n",
            "[nltk_data]    |     /root/nltk_data...\n",
            "[nltk_data]    | Downloading package averaged_perceptron_tagger to\n",
            "[nltk_data]    |     /root/nltk_data...\n",
            "[nltk_data]    |   Unzipping taggers/averaged_perceptron_tagger.zip.\n",
            "[nltk_data]    | \n",
            "[nltk_data]  Done downloading collection popular\n"
          ],
          "name": "stdout"
        },
        {
          "output_type": "execute_result",
          "data": {
            "text/plain": [
              "True"
            ]
          },
          "metadata": {
            "tags": []
          },
          "execution_count": 21
        }
      ]
    },
    {
      "cell_type": "code",
      "metadata": {
        "colab": {
          "base_uri": "https://localhost:8080/"
        },
        "id": "wvoCpHdqZF6E",
        "outputId": "62af3cbc-d22e-47cb-fcbb-4e431809582f"
      },
      "source": [
        "from google.colab import drive\n",
        "\n",
        "drive.mount('/content/drive')"
      ],
      "execution_count": null,
      "outputs": [
        {
          "output_type": "stream",
          "text": [
            "Mounted at /content/drive\n"
          ],
          "name": "stdout"
        }
      ]
    },
    {
      "cell_type": "code",
      "metadata": {
        "colab": {
          "base_uri": "https://localhost:8080/"
        },
        "id": "Z7tN3obvZR7Q",
        "outputId": "2ba87587-0864-4ecb-e2fe-12f94ad1d36f"
      },
      "source": [
        "!pip install transformers"
      ],
      "execution_count": null,
      "outputs": [
        {
          "output_type": "stream",
          "text": [
            "Collecting transformers\n",
            "\u001b[?25l  Downloading https://files.pythonhosted.org/packages/98/87/ef312eef26f5cecd8b17ae9654cdd8d1fae1eb6dbd87257d6d73c128a4d0/transformers-4.3.2-py3-none-any.whl (1.8MB)\n",
            "\u001b[K     |████████████████████████████████| 1.8MB 5.2MB/s \n",
            "\u001b[?25hRequirement already satisfied: regex!=2019.12.17 in /usr/local/lib/python3.6/dist-packages (from transformers) (2019.12.20)\n",
            "Requirement already satisfied: filelock in /usr/local/lib/python3.6/dist-packages (from transformers) (3.0.12)\n",
            "Requirement already satisfied: dataclasses; python_version < \"3.7\" in /usr/local/lib/python3.6/dist-packages (from transformers) (0.8)\n",
            "Collecting sacremoses\n",
            "\u001b[?25l  Downloading https://files.pythonhosted.org/packages/7d/34/09d19aff26edcc8eb2a01bed8e98f13a1537005d31e95233fd48216eed10/sacremoses-0.0.43.tar.gz (883kB)\n",
            "\u001b[K     |████████████████████████████████| 890kB 19.6MB/s \n",
            "\u001b[?25hRequirement already satisfied: requests in /usr/local/lib/python3.6/dist-packages (from transformers) (2.23.0)\n",
            "Collecting tokenizers<0.11,>=0.10.1\n",
            "\u001b[?25l  Downloading https://files.pythonhosted.org/packages/fd/5b/44baae602e0a30bcc53fbdbc60bd940c15e143d252d658dfdefce736ece5/tokenizers-0.10.1-cp36-cp36m-manylinux2010_x86_64.whl (3.2MB)\n",
            "\u001b[K     |████████████████████████████████| 3.2MB 22.3MB/s \n",
            "\u001b[?25hRequirement already satisfied: importlib-metadata; python_version < \"3.8\" in /usr/local/lib/python3.6/dist-packages (from transformers) (3.4.0)\n",
            "Requirement already satisfied: packaging in /usr/local/lib/python3.6/dist-packages (from transformers) (20.9)\n",
            "Requirement already satisfied: tqdm>=4.27 in /usr/local/lib/python3.6/dist-packages (from transformers) (4.41.1)\n",
            "Requirement already satisfied: numpy>=1.17 in /usr/local/lib/python3.6/dist-packages (from transformers) (1.19.5)\n",
            "Requirement already satisfied: six in /usr/local/lib/python3.6/dist-packages (from sacremoses->transformers) (1.15.0)\n",
            "Requirement already satisfied: click in /usr/local/lib/python3.6/dist-packages (from sacremoses->transformers) (7.1.2)\n",
            "Requirement already satisfied: joblib in /usr/local/lib/python3.6/dist-packages (from sacremoses->transformers) (1.0.0)\n",
            "Requirement already satisfied: chardet<4,>=3.0.2 in /usr/local/lib/python3.6/dist-packages (from requests->transformers) (3.0.4)\n",
            "Requirement already satisfied: certifi>=2017.4.17 in /usr/local/lib/python3.6/dist-packages (from requests->transformers) (2020.12.5)\n",
            "Requirement already satisfied: idna<3,>=2.5 in /usr/local/lib/python3.6/dist-packages (from requests->transformers) (2.10)\n",
            "Requirement already satisfied: urllib3!=1.25.0,!=1.25.1,<1.26,>=1.21.1 in /usr/local/lib/python3.6/dist-packages (from requests->transformers) (1.24.3)\n",
            "Requirement already satisfied: zipp>=0.5 in /usr/local/lib/python3.6/dist-packages (from importlib-metadata; python_version < \"3.8\"->transformers) (3.4.0)\n",
            "Requirement already satisfied: typing-extensions>=3.6.4; python_version < \"3.8\" in /usr/local/lib/python3.6/dist-packages (from importlib-metadata; python_version < \"3.8\"->transformers) (3.7.4.3)\n",
            "Requirement already satisfied: pyparsing>=2.0.2 in /usr/local/lib/python3.6/dist-packages (from packaging->transformers) (2.4.7)\n",
            "Building wheels for collected packages: sacremoses\n",
            "  Building wheel for sacremoses (setup.py) ... \u001b[?25l\u001b[?25hdone\n",
            "  Created wheel for sacremoses: filename=sacremoses-0.0.43-cp36-none-any.whl size=893261 sha256=04eee008ab277461f7efab51707e220240fee50bb69e3beb3e8343b438ac1600\n",
            "  Stored in directory: /root/.cache/pip/wheels/29/3c/fd/7ce5c3f0666dab31a50123635e6fb5e19ceb42ce38d4e58f45\n",
            "Successfully built sacremoses\n",
            "Installing collected packages: sacremoses, tokenizers, transformers\n",
            "Successfully installed sacremoses-0.0.43 tokenizers-0.10.1 transformers-4.3.2\n"
          ],
          "name": "stdout"
        }
      ]
    },
    {
      "cell_type": "code",
      "metadata": {
        "id": "T4pOPr5tYird"
      },
      "source": [
        "# -*- coding: utf-8 -*-\n",
        "\"\"\"\n",
        "Created on Thu Jan 30 02:59:27 2020\n",
        "\n",
        "@author: Zohainus\n",
        "\"\"\"\n",
        "\n",
        "import pandas as pd\n",
        "import nltk\n",
        "import string \n",
        "import re\n",
        "import numpy as np\n",
        "from nltk import sent_tokenize, word_tokenize\n",
        "from nltk.corpus import stopwords\n",
        "from nltk.tokenize import word_tokenize\n",
        "from nltk.stem.porter import PorterStemmer\n",
        "from nltk.stem import WordNetLemmatizer \n",
        "stemmer = PorterStemmer()\n",
        "lemmatizer = WordNetLemmatizer()\n",
        "from sklearn.model_selection import StratifiedKFold,KFold\n",
        "from sklearn.feature_extraction.text import CountVectorizer, TfidfVectorizer,TfidfTransformer\n",
        "from sklearn.naive_bayes import MultinomialNB,GaussianNB,BernoulliNB\n",
        "from sklearn.ensemble import RandomForestClassifier,AdaBoostClassifier,BaggingClassifier,GradientBoostingClassifier\n",
        "from nltk.corpus import stopwords\n",
        "import unicodedata\n",
        "from gensim.parsing.preprocessing import STOPWORDS\n",
        "from string import punctuation\n",
        "from sklearn.svm import LinearSVC,SVC\n",
        "from sklearn.pipeline import Pipeline,FeatureUnion\n",
        "from sklearn.metrics import precision_score, recall_score, f1_score, confusion_matrix,classification_report,accuracy_score\n",
        "from nltk.stem.snowball import FrenchStemmer\n",
        "from sklearn.base import BaseEstimator, TransformerMixin\n",
        "from sklearn.pipeline import make_union,make_pipeline\n",
        "from sklearn.feature_selection import SelectFromModel,VarianceThreshold,  SelectPercentile,SelectKBest, f_classif,chi2\n",
        "from xgboost import XGBClassifier\n",
        "from lightgbm import LGBMClassifier\n",
        "from sklearn.impute import SimpleImputer\n",
        "imputer = SimpleImputer(missing_values=np.nan, strategy='mean')\n",
        "from textblob import TextBlob\n",
        "from sklearn.linear_model import LogisticRegression\n",
        "from sklearn.tree import DecisionTreeClassifier\n",
        "from sklearn.neighbors import KNeighborsClassifier\n",
        "from sklearn.discriminant_analysis import LinearDiscriminantAnalysis\n",
        "from sklearn.model_selection import cross_val_score\n",
        "from sklearn.model_selection import KFold\n",
        "from sklearn.ensemble import *\n",
        "import csv\n"
      ],
      "execution_count": null,
      "outputs": []
    },
    {
      "cell_type": "code",
      "metadata": {
        "colab": {
          "base_uri": "https://localhost:8080/"
        },
        "id": "lhSBYFDDB2A4",
        "outputId": "f584fd31-072b-40a0-f372-2d0c12c896ef"
      },
      "source": [
        "from google.colab import drive\n",
        "\n",
        "drive.mount('/content/drive')"
      ],
      "execution_count": null,
      "outputs": [
        {
          "output_type": "stream",
          "text": [
            "Drive already mounted at /content/drive; to attempt to forcibly remount, call drive.mount(\"/content/drive\", force_remount=True).\n"
          ],
          "name": "stdout"
        }
      ]
    },
    {
      "cell_type": "code",
      "metadata": {
        "id": "lS2XW9HBY1Sz"
      },
      "source": [
        "#Read Dataset\n",
        "#To see full tweet\n",
        "pd.set_option(\"display.max_colwidth\", 100)\n",
        "dataset = pd.read_csv(\"/content/drive/MyDrive/engtweets.csv\",encoding=\"latin-1\", names = [\"label\",\"Tweets\"]).astype(str)\n",
        "#new_data = pd.read_csv(\"\",encoding=\"latin-1\", names = [\"label\",\"Tweets\"]).astype(str)"
      ],
      "execution_count": null,
      "outputs": []
    },
    {
      "cell_type": "code",
      "metadata": {
        "id": "B_mRnzqEX0pD"
      },
      "source": [
        "\n",
        "def preprocess_text(text):\n",
        "         # Lowercase\n",
        "        text = text.lower()\n",
        "        \n",
        "        words_seperated_by_space = text.split(\" \")\n",
        "        words_seperated_by_space = [k.replace(\"\\\\xa0\", \" \") for k in words_seperated_by_space]\n",
        "        words_seperated_by_space = [k.replace(\"\\\\xc2\", \" \") for k in words_seperated_by_space]\n",
        "        words_seperated_by_space = [k.replace(\"\\\\n\", \" \") for k in words_seperated_by_space]\n",
        "        words_seperated_by_space = [k.replace(\"\\\\r\", \" \") for k in words_seperated_by_space]\n",
        "        words_seperated_by_space = [k.replace(\"\\\\xc8\", \" \") for k in words_seperated_by_space]\n",
        "        words_seperated_by_space = [k.replace(\"\\\\x9b\", \" \") for k in words_seperated_by_space]\n",
        "        words_seperated_by_space = [k.replace(\"\\\\x99\", \" \") for k in words_seperated_by_space]\n",
        "        words_seperated_by_space = [k.replace(\"\\\\xc4\", \" \") for k in words_seperated_by_space]\n",
        "        words_seperated_by_space = [k.replace(\"\\\\x83\", \" \") for k in words_seperated_by_space]\n",
        "        words_seperated_by_space = [k.replace(\"\\\"99%er\\\"\", \" \") for k in words_seperated_by_space]\n",
        "        words_seperated_by_space = [k.replace(\"\\\\x99\", \" \") for k in words_seperated_by_space]\n",
        "        words_seperated_by_space = [k.replace(\"2x80\", \" \") for k in words_seperated_by_space]\n",
        "        words_seperated_by_space = [k.replace(\"cxf3\", \" \") for k in words_seperated_by_space]\n",
        "        words_seperated_by_space = [k.replace(\"2x80\", \" \") for k in words_seperated_by_space]\n",
        "        words_seperated_by_space = [k.replace(\"u0111\", \" \") for k in words_seperated_by_space]\n",
        "        words_seperated_by_space = [k.replace(\"cixe2x80m\", \" \") for k in words_seperated_by_space]\n",
        "\n",
        "        words_seperated_by_space = [k.replace(\"don't\", \"dont\") for k in words_seperated_by_space]\n",
        "        words_seperated_by_space = [k.replace(\"won't\", \"wont\") for k in words_seperated_by_space]\n",
        "        words_seperated_by_space = [k.replace(\"can't\", \"cant\") for k in words_seperated_by_space]\n",
        "        words_seperated_by_space = [k.replace(\"i\\'m\", \"i am\") for k in words_seperated_by_space]\n",
        "        words_seperated_by_space = [k.replace(\"ain't\", \"is not\") for k in words_seperated_by_space]\n",
        "        words_seperated_by_space = [k.replace(\"\\'ll\", \"will\") for k in words_seperated_by_space]\n",
        "        words_seperated_by_space = [k.replace(\"\\'t\", \"not\") for k in words_seperated_by_space]\n",
        "        words_seperated_by_space = [k.replace(\"\\'ve\", \"have\") for k in words_seperated_by_space]\n",
        "        words_seperated_by_space = [k.replace(\"'s\", \"is\") for k in words_seperated_by_space]\n",
        "        words_seperated_by_space = [k.replace(\"\\'re\", \"are\") for k in words_seperated_by_space]\n",
        "        words_seperated_by_space = [k.replace(\"\\'d\", \"would\") for k in words_seperated_by_space]\n",
        "        words_seperated_by_space = [k.replace(\"\\\\ \\\\ \", \" \") for k in words_seperated_by_space]\n",
        "\n",
        "        words_seperated_by_space = [re.sub(\" u \", \"you\", str(k)) for k in words_seperated_by_space]\n",
        "        words_seperated_by_space = [re.sub(\"[!]+\", \"!\", str(k)) for k in words_seperated_by_space]\n",
        "        words_seperated_by_space = [re.sub('[?]+', \"?\", str(k)) for k in words_seperated_by_space]\n",
        "        words_seperated_by_space = [re.sub('[.]+', \".\", str(k)) for k in words_seperated_by_space]\n",
        "        words_seperated_by_space = [re.sub('[\\\\\\]+', \"\", str(k)) for k in words_seperated_by_space]\n",
        "        words_seperated_by_space = [re.sub('[\\']+', \".\", str(k)) for k in words_seperated_by_space]\n",
        "        words_seperated_by_space = [re.sub(\"(haha)+\", \"haha\", str(k)) for k in words_seperated_by_space]\n",
        "        words_seperated_by_space = [re.sub(\"(l(ol)+)\", \"lol \", str(k)) for k in words_seperated_by_space]\n",
        "        words_seperated_by_space = [re.sub(\"(bw(a)+h)\", \"bwah\", str(k)) for k in words_seperated_by_space]\n",
        "        words_seperated_by_space = [re.sub(\"(bwa(h)+)\", \"bwah\", str(k)) for k in words_seperated_by_space]\n",
        "        words_seperated_by_space = [re.sub(\"(bwa(h)+)\", \"bwah\", str(k)) for k in words_seperated_by_space]\n",
        "        words_seperated_by_space = [re.sub(\"<[a-z]*>\", \"\", str(k)) for k in words_seperated_by_space]\n",
        "        words_seperated_by_space = [re.sub(\"[*****]+\", \"\", str(k)) for k in words_seperated_by_space]\n",
        "        words_seperated_by_space = [re.sub(\"(xe2x80x(9|a6))\", \"\", str(k)) for k in words_seperated_by_space]\n",
        "        words_seperated_by_space = [re.sub('_', \"\", str(k)) for k in words_seperated_by_space]\n",
        "        words_seperated_by_space = [re.sub('-', \"\", str(k)) for k in words_seperated_by_space]\n",
        "        words_seperated_by_space = [re.sub('<>', \"\", str(k)) for k in words_seperated_by_space]\n",
        "        words_seperated_by_space = [re.sub('g(rrr)+', \"grr\", str(k)) for k in words_seperated_by_space]\n",
        "        words_seperated_by_space = [re.sub('u(mmm)+|u(mm)+', \"umm\", str(k)) for k in words_seperated_by_space]\n",
        "        words_seperated_by_space = [re.sub('@[A-Za-z0-9]+',' ',str(k))for k in words_seperated_by_space]\n",
        "        words_seperated_by_space = [re.sub('https?://[A-Za-z0-9./]+',' ',str(k))for k in words_seperated_by_space]\n",
        "        words_seperated_by_space = [re.sub('#[A-Za-z0-9]+',' ',str(k))for k in words_seperated_by_space]\n",
        "        words_seperated_by_space = [re.sub('\\W', ' ', str(k))for k in words_seperated_by_space]\n",
        "        words_seperated_by_space = [re.sub('\\s+', ' ', str(k))for k in words_seperated_by_space]\n",
        "        text = ' '.join(words_seperated_by_space)\n",
        "        # Remove HTML tags\n",
        "        text = re.sub(r'<[^>]*>', '', text)\n",
        "        # Remove twitter handlers, hashtags symbols and URLs\n",
        "        text = re.sub(r'@[\\w_-]+', ' ', text)\n",
        "        text = re.sub('https?://[^ ]+', ' ', text)\n",
        "        text = re.sub('#', '', text)\n",
        "        text = re.sub('rt', '', text)\n",
        "        # Expand contractions\n",
        "        text = re.sub(r\"i'm\", \" i am \", text)\n",
        "        text = re.sub(r\" im \", \" i am \", text)\n",
        "        text = re.sub(r\"\\: p\", \"\", text)\n",
        "        text = re.sub(r\" ive \", \" i have \", text)\n",
        "        text = re.sub(r\" he's \", \" he is \", text)\n",
        "        text = re.sub(r\" she's \", \" she is \", text)\n",
        "        text = re.sub(r\" that's \", \" that is \", text)\n",
        "        text = re.sub(r\" what's \", \" what is \", text)\n",
        "        text = re.sub(r\" where's \", \" where is \", text)\n",
        "        text = re.sub(r\" haven't \", \" have not \", text)\n",
        "        text = re.sub(r\" ur \", \" you are \", text)\n",
        "        text = re.sub(r\"\\'ll\", \" will\", text)\n",
        "        text = re.sub(r\"\\'ve\", \" have\", text)\n",
        "        text = re.sub(r\"\\'re\", \" are\", text)\n",
        "        text = re.sub(r\"\\'d\", \" would\", text)\n",
        "        text = re.sub(r\" won't \", \" will not \", text)\n",
        "        text = re.sub(r\" wouldn't \", \" would not \", text)\n",
        "        text = re.sub(r\" can't \", \" cannot \", text)\n",
        "        text = re.sub(r\" cannot \", \" cannot \", text)\n",
        "        text = re.sub(r\" don't \", \" do not \", text)\n",
        "        text = re.sub(r\" didn't \", \" did not \", text)\n",
        "        text = re.sub(r\" doesn't \", \" does not \", text)\n",
        "        text = re.sub(r\" isn't \", \" is not \", text)\n",
        "        text = re.sub(r\" it's \", \" it is \", text)\n",
        "        text = re.sub(r\" who's \", \" who is \", text)\n",
        "        text = re.sub(r\" there's \", \" there is \", text)\n",
        "        text = re.sub(r\" weren't \", \" were not \", text)\n",
        "        text = re.sub(r\" okay \", \" o\", text)\n",
        "        text = re.sub(r\" you're \", \" you are \", text)\n",
        "        text = re.sub(r\" c'mon \", \" come on \", text)\n",
        "        text = re.sub(r\"in'\", \"ing\", text)\n",
        "        text = re.sub(r\"\\'s\", \" s\", text)\n",
        "        # Remove ponctuation and special chars except ! and ?\n",
        "        text = re.sub('[^a-zA-Z?!\\s]', ' ', text)\n",
        "        # Lemmatize\n",
        "        lemmatizer = WordNetLemmatizer()\n",
        "        sentence = []\n",
        "        for word in text.split(' '):\n",
        "            sentence.append(lemmatizer.lemmatize(word))\n",
        "        # Rebuild sentences\n",
        "        text = ' '.join(sentence)\n",
        "        # Remove stopwords\n",
        "        stopWords = set(stopwords.words('english'))\n",
        "        sentence = []\n",
        "        for word in text.split(' '):\n",
        "            if word not in stopWords:\n",
        "                sentence.append(word)\n",
        "        # Rebuild sentences\n",
        "        text = ' '.join(sentence)\n",
        "        return text\n",
        "\n"
      ],
      "execution_count": null,
      "outputs": []
    },
    {
      "cell_type": "code",
      "metadata": {
        "id": "cpnt-ELiZiXE",
        "colab": {
          "base_uri": "https://localhost:8080/"
        },
        "outputId": "bdef4bba-fa8b-492b-b1b0-e7c1fe5afb73"
      },
      "source": [
        "# caling function\n",
        "dataset['Tweets_clean'] = dataset['Tweets'].apply(preprocess_text)\n",
        "dataset['Tweets_clean'].values.reshape(1,-1)\n",
        "print (f'G = {len(dataset[dataset[\"label\"]==\"G\"])}')\n",
        "print (f'NG = {len(dataset[dataset[\"label\"]==\"NG\"])}')\n",
        "#new_data['Tweets_clean'] = new_data['Tweets'].apply(preprocess_text)\n",
        "#print(new_data['Tweets_clean'])\n"
      ],
      "execution_count": null,
      "outputs": [
        {
          "output_type": "stream",
          "text": [
            "G = 576\n",
            "NG = 433\n"
          ],
          "name": "stdout"
        }
      ]
    },
    {
      "cell_type": "markdown",
      "metadata": {
        "id": "6-VrQ3R3Qe6K"
      },
      "source": [
        "Loading the Pre-trained BERT model\n",
        "\n",
        "distilBERT model - a version of BERT that is smaller, but much faster and requiring a lot less memory."
      ]
    },
    {
      "cell_type": "code",
      "metadata": {
        "colab": {
          "base_uri": "https://localhost:8080/",
          "height": 165,
          "referenced_widgets": [
            "8c44e4ef8bc34f81a66e03d065207819",
            "e62f0e2fe49f463fbe238ad7aebc2672",
            "8c000b37ef09432aaacf262c0a5f0b90",
            "d43a24acbc72416d894c7f9a5514c6bc",
            "0f05f2a1d8104e358902743f86048257",
            "6aaa2a0365a94e7593aa7f1eefe03d24",
            "a0a3a745d75c4036ad7b731a87fb6996",
            "6d30afd2b8ad4975889d93e85a511053",
            "c2f35a2c07e94d1bb2076dedd3b77062",
            "070c03348fb44ffb9965bc158675d829",
            "80b71d1ec8de440da2dc965c5f34b05f",
            "618900f977ed419f9142c2c9ffbea606",
            "0db45fca0dad414da2c84e7168017bb1",
            "fbca82f6b8064d3c874a7b72a7cd2c23",
            "b04e713f82e94533a1e7cceffbcc727b",
            "3ed03eec0cc645c1a26fc9ffabef27aa",
            "cea8adfdb27e4ad0a65d51e9246327d5",
            "e770028991034f528921f5b55b8bd60e",
            "2c803a97cd7e4610b8d8b79b6780be34",
            "cc8ae86da56d4790b466f2e3b62902d2",
            "bc5f2326422c444dad65fb0c6416d11c",
            "b5dfa53a64284a3a9da1a18b67846551",
            "0a7b1b577d664a7bb83177a08819b039",
            "33c2863a02c049dabfcc23e698d74322"
          ]
        },
        "id": "dVPf0VVezaun",
        "outputId": "36f3ed87-91b5-450c-9c84-8a2e95e6c0ee"
      },
      "source": [
        "import transformers as ppb\n",
        "import warnings\n",
        "warnings.filterwarnings('ignore')\n",
        "\n",
        "# For DistilBERT:its less heavy than Bert\n",
        "model_class, tokenizer_class, pretrained_weights = (ppb.DistilBertModel, ppb.DistilBertTokenizer, 'distilbert-base-uncased')\n",
        "\n",
        "#For  BERT--THIS TAKES A LOT OF TIME ON MY MACHINE SO NOT RECOMMENDED\n",
        "#model_class, tokenizer_class, pretrained_weights = (ppb.BertModel, ppb.BertTokenizer, 'bert-base-uncased')\n",
        "\n",
        "# Load pretrained model/tokenizer\n",
        "tokenizer = tokenizer_class.from_pretrained(pretrained_weights)\n",
        "\n",
        "model = model_class.from_pretrained(pretrained_weights)\n",
        "\n"
      ],
      "execution_count": null,
      "outputs": [
        {
          "output_type": "display_data",
          "data": {
            "application/vnd.jupyter.widget-view+json": {
              "model_id": "8c44e4ef8bc34f81a66e03d065207819",
              "version_minor": 0,
              "version_major": 2
            },
            "text/plain": [
              "HBox(children=(FloatProgress(value=0.0, description='Downloading', max=231508.0, style=ProgressStyle(descripti…"
            ]
          },
          "metadata": {
            "tags": []
          }
        },
        {
          "output_type": "stream",
          "text": [
            "\n"
          ],
          "name": "stdout"
        },
        {
          "output_type": "display_data",
          "data": {
            "application/vnd.jupyter.widget-view+json": {
              "model_id": "c2f35a2c07e94d1bb2076dedd3b77062",
              "version_minor": 0,
              "version_major": 2
            },
            "text/plain": [
              "HBox(children=(FloatProgress(value=0.0, description='Downloading', max=442.0, style=ProgressStyle(description_…"
            ]
          },
          "metadata": {
            "tags": []
          }
        },
        {
          "output_type": "stream",
          "text": [
            "\n"
          ],
          "name": "stdout"
        },
        {
          "output_type": "display_data",
          "data": {
            "application/vnd.jupyter.widget-view+json": {
              "model_id": "cea8adfdb27e4ad0a65d51e9246327d5",
              "version_minor": 0,
              "version_major": 2
            },
            "text/plain": [
              "HBox(children=(FloatProgress(value=0.0, description='Downloading', max=267967963.0, style=ProgressStyle(descri…"
            ]
          },
          "metadata": {
            "tags": []
          }
        },
        {
          "output_type": "stream",
          "text": [
            "\n"
          ],
          "name": "stdout"
        }
      ]
    },
    {
      "cell_type": "code",
      "metadata": {
        "id": "2CkTv0VYRcIv"
      },
      "source": [
        "#to tokenize using bert\n",
        "tokenized = dataset['Tweets_clean'].apply((lambda x: tokenizer.encode(x, add_special_tokens=True)))"
      ],
      "execution_count": null,
      "outputs": []
    },
    {
      "cell_type": "markdown",
      "metadata": {
        "id": "uzmi4nGe0B_B"
      },
      "source": [
        "After tokenization, tokenized is a list of sentences -- each sentences is represented as a list of tokens. We want BERT to process our examples all at once (as one batch). It's just faster that way. For that reason, we need to pad all lists to the same size, so we can represent the input as one 2-d array, rather than a list of lists (of different lengths)."
      ]
    },
    {
      "cell_type": "code",
      "metadata": {
        "id": "2sGh0RuEN0Hz"
      },
      "source": [
        "#Padding the values\n",
        "max_len = 0\n",
        "for i in tokenized.values:\n",
        "    if len(i) > max_len:\n",
        "        max_len = len(i)\n",
        "\n",
        "padded = np.array([i + [0]*(max_len-len(i)) for i in tokenized.values])"
      ],
      "execution_count": null,
      "outputs": []
    },
    {
      "cell_type": "code",
      "metadata": {
        "colab": {
          "base_uri": "https://localhost:8080/"
        },
        "id": "FLoUNyRt0Dyi",
        "outputId": "c4179bf5-d4fd-48c1-fbac-e61466fa6ee7"
      },
      "source": [
        "np.array(padded).shape"
      ],
      "execution_count": null,
      "outputs": [
        {
          "output_type": "execute_result",
          "data": {
            "text/plain": [
              "(1010, 70)"
            ]
          },
          "metadata": {
            "tags": []
          },
          "execution_count": 32
        }
      ]
    },
    {
      "cell_type": "markdown",
      "metadata": {
        "id": "dckn5oFKN8fe"
      },
      "source": [
        "TFIDFVECTORIZATION NOT NEEDED"
      ]
    },
    {
      "cell_type": "code",
      "metadata": {
        "id": "bydDGGbjb1Vi"
      },
      "source": [
        "\"\"\"\n",
        "# TFidfVectorization\n",
        "tfidf_vect = TfidfVectorizer()\n",
        "X = tfidf_vect.fit_transform(dataset['Tweets_clean'])\n",
        "\n",
        "print(X.shape)\n",
        "X1 = tfidf_vect.transform(new_data['Tweets_clean']).toarray()\n",
        "\n",
        "print(X1.shape)\n",
        "y = dataset['label']\n",
        "print(dataset.groupby(['label']).size())\n",
        "skf = StratifiedKFold(n_splits=10, random_state=18, shuffle=True)\n",
        "for train_index, test_index in skf.split(X, y):\n",
        "    X_train, X_test = X[train_index], X[test_index]\n",
        "  \"\"\""
      ],
      "execution_count": null,
      "outputs": []
    },
    {
      "cell_type": "markdown",
      "metadata": {
        "id": "sDZBsYSDjzDV"
      },
      "source": [
        "### Masking\n",
        "If we directly send `padded` to BERT, that would slightly confuse it. We need to create another variable to tell it to ignore (mask) the padding we've added when it's processing its input. That's what attention_mask is:"
      ]
    },
    {
      "cell_type": "code",
      "metadata": {
        "id": "4K_iGRNa_Ozc",
        "colab": {
          "base_uri": "https://localhost:8080/"
        },
        "outputId": "a392541c-cf31-4717-dd35-374d411de3a5"
      },
      "source": [
        "attention_mask = np.where(padded != 0, 1, 0)\n",
        "attention_mask.shape"
      ],
      "execution_count": null,
      "outputs": [
        {
          "output_type": "execute_result",
          "data": {
            "text/plain": [
              "(1010, 70)"
            ]
          },
          "metadata": {
            "tags": []
          },
          "execution_count": 33
        }
      ]
    },
    {
      "cell_type": "markdown",
      "metadata": {
        "id": "zK4fA_Nh1F1s"
      },
      "source": [
        "The model() function runs our sentences through BERT. The results of the processing will be returned into last_hidden_states."
      ]
    },
    {
      "cell_type": "code",
      "metadata": {
        "id": "39UVjAV56PJz"
      },
      "source": [
        "import torch\n",
        "input_ids = torch.tensor(padded)  \n",
        "attention_mask = torch.tensor(attention_mask)\n",
        "\n",
        "with torch.no_grad():\n",
        "    last_hidden_states = model(input_ids, attention_mask=attention_mask)"
      ],
      "execution_count": null,
      "outputs": []
    },
    {
      "cell_type": "markdown",
      "metadata": {
        "id": "FoCep_WVuB3v"
      },
      "source": [
        "Let's slice only the part of the output that we need. That is the output corresponding the first token of each sentence. The way BERT does sentence classification, is that it adds a token called `[CLS]` (for classification) at the beginning of every sentence. The output corresponding to that token can be thought of as an embedding for the entire sentence.\n",
        "\n",
        "We'll save those in the `features` variable, as they'll serve as the features to our models"
      ]
    },
    {
      "cell_type": "code",
      "metadata": {
        "id": "C9t60At16PVs"
      },
      "source": [
        "features = last_hidden_states[0][:,0,:].numpy()"
      ],
      "execution_count": null,
      "outputs": []
    },
    {
      "cell_type": "markdown",
      "metadata": {
        "id": "_VZVU66Gurr-"
      },
      "source": [
        "The labels indicating which sentence is positive(G) and negative(NG) now go into the `labels` variable"
      ]
    },
    {
      "cell_type": "markdown",
      "metadata": {
        "id": "iaoEvM2evRx1"
      },
      "source": [
        "## Model #2: Train/Test Split\n",
        "Let's now split our datAset into a training set and testing set \n",
        "\n",
        "Rename dataset to batch_1"
      ]
    },
    {
      "cell_type": "code",
      "metadata": {
        "id": "JD3fX2yh6PTx"
      },
      "source": [
        "batch_1 = dataset[:]\n"
      ],
      "execution_count": null,
      "outputs": []
    },
    {
      "cell_type": "code",
      "metadata": {
        "colab": {
          "base_uri": "https://localhost:8080/"
        },
        "id": "6CYionB63uex",
        "outputId": "78e7ea6e-9626-492a-a09f-f741b535ef54"
      },
      "source": [
        "batch_1['label'].value_counts()"
      ],
      "execution_count": null,
      "outputs": [
        {
          "output_type": "execute_result",
          "data": {
            "text/plain": [
              "G        576\n",
              "NG       433\n",
              "label      1\n",
              "Name: label, dtype: int64"
            ]
          },
          "metadata": {
            "tags": []
          },
          "execution_count": 38
        }
      ]
    },
    {
      "cell_type": "code",
      "metadata": {
        "colab": {
          "base_uri": "https://localhost:8080/"
        },
        "id": "Q1QXvAQqS1w_",
        "outputId": "93c30297-3d3d-40b0-a038-c1755c56253c"
      },
      "source": [
        "print (f'G = {len(dataset[dataset[\"label\"]==\"G\"])}')\n",
        "print (f'NG = {len(dataset[dataset[\"label\"]==\"NG\"])}')"
      ],
      "execution_count": null,
      "outputs": [
        {
          "output_type": "stream",
          "text": [
            "G = 576\n",
            "NG = 433\n"
          ],
          "name": "stdout"
        }
      ]
    },
    {
      "cell_type": "code",
      "metadata": {
        "id": "-ZMP82N_3hMv"
      },
      "source": [
        "labels = batch_1['label']"
      ],
      "execution_count": null,
      "outputs": []
    },
    {
      "cell_type": "code",
      "metadata": {
        "id": "ddAqbkoU6PP9"
      },
      "source": [
        "from sklearn.model_selection import train_test_split\n",
        "train_features, test_features, train_labels, test_labels = train_test_split(features, labels)"
      ],
      "execution_count": null,
      "outputs": []
    },
    {
      "cell_type": "markdown",
      "metadata": {
        "id": "Tvl_yUR7QB7b"
      },
      "source": [
        "LOAD MODELS\n"
      ]
    },
    {
      "cell_type": "code",
      "metadata": {
        "colab": {
          "base_uri": "https://localhost:8080/"
        },
        "id": "527-iY5tOj9h",
        "outputId": "45aec76b-97bb-4c44-d31f-a85d5c1d54ff"
      },
      "source": [
        "\n",
        "from sklearn.ensemble import *\n",
        "\n",
        "LDA=LinearDiscriminantAnalysis()\n",
        "LDA.fit(train_features, train_labels)\n",
        "scores = cross_val_score(LDA, train_features, train_labels)\n",
        "print(\"LDA Classifier score: %0.3f \" % (scores.mean()))\n",
        "\n",
        "KNN= KNeighborsClassifier()\n",
        "KNN.fit(train_features, train_labels)\n",
        "scores = cross_val_score(KNN, train_features, train_labels)\n",
        "print(\"KNN Classifier score: %0.3f \" % (scores.mean()))\n",
        "\n",
        "CART= DecisionTreeClassifier()\n",
        "CART.fit(train_features, train_labels)\n",
        "scores = cross_val_score(CART, train_features, train_labels)\n",
        "print(\"CART Classifier score: %0.3f\" % (scores.mean() ))\n",
        "\n",
        "NB= GaussianNB()\n",
        "NB.fit(train_features, train_labels)\n",
        "scores = cross_val_score(NB, train_features, train_labels)\n",
        "print(\"NB Classifier score: %0.3f\" % (scores.mean()))\n",
        "\n",
        "SVM=SVC()\n",
        "SVM.fit(train_features, train_labels)\n",
        "scores = cross_val_score(SVM, train_features, train_labels)\n",
        "print(\"SVM Classifier score: %0.3f\" % (scores.mean()))\n",
        "\n",
        "LightGBM=LGBMClassifier()\n",
        "LightGBM.fit(train_features, train_labels)\n",
        "scores = cross_val_score(LightGBM, train_features, train_labels)\n",
        "print(\"LGBM Classifier score: %0.3f\" % (scores.mean()))\n",
        "\n",
        "\n",
        "from xgboost import XGBClassifier\n",
        "XGBClassifier=XGBClassifier()\n",
        "XGBClassifier.fit(train_features, train_labels)\n",
        "scores = cross_val_score(XGBClassifier, train_features, train_labels)\n",
        "print(\"XGBC Classifier score: %0.3f\" % (scores.mean()))\n",
        "\n",
        "\n",
        "from sklearn.ensemble import BaggingClassifier\n",
        "BaggingClassifier=BaggingClassifier()\n",
        "BaggingClassifier.fit(train_features, train_labels)\n",
        "scores = cross_val_score(BaggingClassifier, train_features, train_labels)\n",
        "print(\"Bagging Classifier score: %0.3f \" % (scores.mean()))\n",
        "\n",
        "from sklearn.linear_model import LogisticRegression\n",
        "LogisticRegression=LogisticRegression(random_state=42, solver='liblinear',multi_class='auto')\n",
        "LogisticRegression.fit(train_features, train_labels)\n",
        "scores = cross_val_score(LogisticRegression, train_features, train_labels)\n",
        "print(\"Logistic Regression Classifier score: %0.3f\" % (scores.mean()))\n",
        "\n",
        "from sklearn.ensemble import *\n",
        "RandomForestClassifier=RandomForestClassifier(n_estimators = 35,random_state = 42)\n",
        "RandomForestClassifier.fit(train_features, train_labels)\n",
        "scores = cross_val_score(RandomForestClassifier, train_features, train_labels)\n",
        "print(\"Random Forest Classifier score: %0.3f\" % (scores.mean()))\n",
        "\n",
        "#GradientBoostClassifier=GradientBoostingClassifier()\n",
        "#GradientBoostingClassifier.fit(train_features,train_labels)\n",
        "#scores = cross_val_score(GradientBoostingClassifier, train_features, train_labels)\n",
        "#scores=GradientBoostingClassifier.score(train_features, train_labels)\n",
        "#print(\"Gradient Boost Classifier score: %0.3f \" % (scores.mean(),))\n",
        "\n",
        "AdaBoost=AdaBoostClassifier()\n",
        "AdaBoost.fit(train_features, train_labels)\n",
        "scores = cross_val_score(AdaBoost, train_features, train_labels)\n",
        "print(\"Ada Classifier score: %0.3f \" % (scores.mean()))"
      ],
      "execution_count": null,
      "outputs": [
        {
          "output_type": "stream",
          "text": [
            "LDA Classifier score: 0.622 \n",
            "KNN Classifier score: 0.672 \n",
            "CART Classifier score: 0.631\n",
            "NB Classifier score: 0.670\n",
            "SVM Classifier score: 0.708\n",
            "LGBM Classifier score: 0.721\n",
            "XGBC Classifier score: 0.716\n",
            "Bagging Classifier score: 0.680 \n",
            "Logistic Regression Classifier score: 0.729\n",
            "Random Forest Classifier score: 0.686\n",
            "Ada Classifier score: 0.688 \n"
          ],
          "name": "stdout"
        }
      ]
    },
    {
      "cell_type": "code",
      "metadata": {
        "id": "76_fZb2ojfJp"
      },
      "source": [
        "with open('FinalReport11.txt','w') as file:\n",
        "  file.write(str(scores))"
      ],
      "execution_count": null,
      "outputs": []
    },
    {
      "cell_type": "code",
      "metadata": {
        "id": "g8UN4lkDZjPw"
      },
      "source": [
        "# Comparison of Classifiers\n",
        "from sklearn.linear_model import LogisticRegression\n",
        "from sklearn.ensemble import *\n",
        "from xgboost import XGBClassifier\n",
        "models = {\n",
        "            'LinearSVC':LinearSVC(),\n",
        "            #'SVC':SVC(C = 10, gamma= 0.4, kernel = 'sigmoid') ,\n",
        "            #'SVC':SVC(C = 10, gamma= 0.2, kernel = 'linear') ,\n",
        "            #'SVC':SVC(C = 10, gamma= 0.4, kernel = 'poly') ,\n",
        "            'LogisticRegression':LogisticRegression(penalty='l2', dual=False, tol=0.0001, C= 0.5, fit_intercept=True, intercept_scaling=1, class_weight=None, random_state=None, solver='lbfgs', max_iter=100, verbose=5, warm_start=False, n_jobs=-1),\n",
        "            'DecisionTreeClassifier':DecisionTreeClassifier(),\n",
        "            'RandomForestClassifier':RandomForestClassifier(),\n",
        "            'GradientBoostClassifier':GradientBoostingClassifier(),\n",
        "            'KNN':KNeighborsClassifier(),\n",
        "            'NB':GaussianNB(),\n",
        "            'AdaBoost':AdaBoostClassifier(),\n",
        "            'BaggingClassifier':BaggingClassifier(),\n",
        "            'XGBClassifier':XGBClassifier(),\n",
        "            'LightGBM':LGBMClassifier()\n",
        "            }\n",
        "\n"
      ],
      "execution_count": null,
      "outputs": []
    },
    {
      "cell_type": "markdown",
      "metadata": {
        "id": "YkxuQs2OYP2W"
      },
      "source": [
        "THIS FUNCTIONs BELOW  HAVEN'T IMPLEMENTED"
      ]
    },
    {
      "cell_type": "code",
      "metadata": {
        "id": "EUnDHRs6U4pr"
      },
      "source": [
        "f = open('FianlReport11.txt','w')\n",
        "train_features, test_features, train_labels, test_labels = train_test_split(features, labels)\n",
        "for name, model in models.items():\n",
        "    clf = model\n",
        "   # clf.fit(X_train.toarray(), y_train)\n",
        "    clf.fit(train_features, train_labels)\n",
        "    y_pred = clf.predict(train_labels)\n",
        "    #y_pred = clf.predict(X1)\n",
        "    #print(y_predict)"
      ],
      "execution_count": null,
      "outputs": []
    },
    {
      "cell_type": "code",
      "metadata": {
        "id": "gnNaYgRzaQ2-"
      },
      "source": [
        "# it is the code when i use another dataset to train the model. ok    \n",
        "\n",
        "question1 = y_pred  #question 1 data\n",
        "question2 = new_data['Tweets_clean'] #question 2 data\n",
        "df = pd.DataFrame(columns=[\"label\", \"Tweets\"])\n",
        "df[\"label\"] = question1\n",
        "df[\"Tweets\"] = question2\n",
        "df.to_csv(\"C:\\\\Users\\\\Zohainus\\\\Desktop\\\\newdata\\\\april2019.csv\",index=False)\n",
        "new_data_op = pd.read_csv(\"C:\\\\Users\\\\Zohainus\\\\Desktop\\\\newdata\\\\april2019.csv\",encoding=\"latin-1\", names = [\"label\",\"Tweets\"],delimiter=',').astype(str)\n",
        "#How many labels in dataset\n",
        "print (f'G = {len(new_data_op[new_data_op[\"label\"]==\"G\"])}')\n",
        "print (f'NG = {len(new_data_op[new_data_op[\"label\"]==\"NG\"])}')"
      ],
      "execution_count": null,
      "outputs": []
    },
    {
      "cell_type": "code",
      "metadata": {
        "id": "kug1ekweYPjD"
      },
      "source": [
        "Exploring the dataset\n",
        "# Sahpe of data\n",
        "print (f\"Input data has {len(dataset)} rows, {len(dataset.columns)}columns\")\n",
        "#How many labels in dataset\n",
        "print (f'G = {len(new_data[new_data[\"label\"]==\"G\"])}')\n",
        "print (f'NG = {len(new_data[new_data[\"label\"]==\"NG\"])}')\n",
        "# Missing values in any row, ignore those\n",
        "print (f\"Number of missing labels = {dataset ['label'].isnull().sum() }\")\n",
        "print (f\"Number of missing labels = {dataset ['Tweets'].isnull().sum() }\")\n",
        "\n",
        "'''\n",
        "'''\n",
        "# Confusion Matrix of LinearSvc\n",
        "#import modules\n",
        "import warnings\n",
        "import pandas as pd\n",
        "from sklearn import model_selection\n",
        "from sklearn.linear_model import LogisticRegression\n",
        "from sklearn.metrics import confusion_matrix\n",
        "import matplotlib.pyplot as plt\n",
        "%matplotlib inline  \n",
        "\n",
        "#ignore warnings\n",
        "warnings.filterwarnings('ignore')\n",
        "model = LinearSVC()\n",
        "model.fit(X_train, y_train)\n",
        "pred = model.predict(X_test)\n",
        "\n",
        "#Construct the Confusion Matrix\n",
        "label = ['G', 'NG']\n",
        "cm = confusion_matrix(y_test, pred, label)\n",
        "print(cm)\n",
        "fig = plt.figure()\n",
        "ax = fig.add_subplot(111)\n",
        "cax = ax.matshow(cm)\n",
        "fig.colorbar(cax)\n",
        "ax.set_xticklabels([''] + label)\n",
        "ax.set_yticklabels([''] + label)\n",
        "plt.xlabel('Predicted')\n",
        "plt.ylabel('True')\n",
        "plt.title()\n",
        "plt.show()"
      ],
      "execution_count": null,
      "outputs": []
    }
  ]
}